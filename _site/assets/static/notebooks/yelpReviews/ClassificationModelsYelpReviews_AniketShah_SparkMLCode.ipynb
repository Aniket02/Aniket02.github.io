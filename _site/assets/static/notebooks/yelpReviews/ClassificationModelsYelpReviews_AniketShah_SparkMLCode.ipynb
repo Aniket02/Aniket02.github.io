{
 "cells": [
  {
   "cell_type": "code",
   "execution_count": 1,
   "metadata": {},
   "outputs": [],
   "source": [
    "from pyspark.sql.functions import rank, col, row_number\n",
    "from pyspark.sql.window import Window\n",
    "from pyspark.ml import Pipeline\n",
    "from pyspark.ml.feature import RegexTokenizer, CountVectorizer, StringIndexer, VectorAssembler, HashingTF, IDF, NGram\n",
    "from pyspark.ml.classification import LogisticRegression, NaiveBayes\n",
    "from pyspark.ml.evaluation import MulticlassClassificationEvaluator\n",
    "from pyspark.ml.tuning import ParamGridBuilder, CrossValidator"
   ]
  },
  {
   "cell_type": "markdown",
   "metadata": {},
   "source": [
    "Initiating the Spark Instance, and setting driver memory to 8G:"
   ]
  },
  {
   "cell_type": "code",
   "execution_count": 2,
   "metadata": {},
   "outputs": [],
   "source": [
    "from pyspark import SparkConf\n",
    "from pyspark.sql import SparkSession\n",
    "\n",
    "spark = SparkSession.builder.master(\"local[*]\").config(conf=SparkConf().set(\"spark.driver.memory\", \"6g\")).getOrCreate()\n",
    "# spark = SparkSession.builder.master(\"spark://localhost:7077\").config(conf=SparkConf() \\\n",
    "#         .set(\"spark.driver.memory\", \"6g\").set(\"spark.executor.memory\", \"6g\")).getOrCreate()"
   ]
  },
  {
   "cell_type": "markdown",
   "metadata": {},
   "source": [
    "Importing Data (one JSON record per line):"
   ]
  },
  {
   "cell_type": "code",
   "execution_count": 3,
   "metadata": {},
   "outputs": [],
   "source": [
    "yelp_df = spark.read.json(\"yelp_academic_dataset_review.json\")"
   ]
  },
  {
   "cell_type": "code",
   "execution_count": 4,
   "metadata": {},
   "outputs": [
    {
     "name": "stdout",
     "output_type": "stream",
     "text": [
      "+--------------------+----+----------+-----+--------------------+-----+--------------------+------+--------------------+\n",
      "|         business_id|cool|      date|funny|           review_id|stars|                text|useful|             user_id|\n",
      "+--------------------+----+----------+-----+--------------------+-----+--------------------+------+--------------------+\n",
      "|iCQpiavjjPzJ5_3gP...|   0|2011-02-25|    0|x7mDIiDB3jEiPGPHO...|    2|The pizza was oka...|     0|msQe1u7Z_XuqjGoqh...|\n",
      "|pomGBqfbxcqPv14c3...|   0|2012-11-13|    0|dDl8zu1vWPdKGihJr...|    5|I love this place...|     0|msQe1u7Z_XuqjGoqh...|\n",
      "|jtQARsP6P-LbkyjbO...|   1|2014-10-23|    1|LZp4UX5zK3e-c5ZGS...|    1|Terrible. Dry cor...|     3|msQe1u7Z_XuqjGoqh...|\n",
      "|elqbBhBfElMNSrjFq...|   0|2011-02-25|    0|Er4NBWCmCD4nM8_p1...|    2|Back in 2005-2007...|     2|msQe1u7Z_XuqjGoqh...|\n",
      "|Ums3gaP2qM3W1XcA5...|   0|2014-09-05|    0|jsDu6QEJHbwP2Blom...|    5|Delicious healthy...|     0|msQe1u7Z_XuqjGoqh...|\n",
      "+--------------------+----+----------+-----+--------------------+-----+--------------------+------+--------------------+\n",
      "only showing top 5 rows\n",
      "\n"
     ]
    }
   ],
   "source": [
    "yelp_df.show(5)"
   ]
  },
  {
   "cell_type": "markdown",
   "metadata": {},
   "source": [
    "Removing all columns that are irrelevant to the question at hand:"
   ]
  },
  {
   "cell_type": "code",
   "execution_count": 5,
   "metadata": {},
   "outputs": [
    {
     "name": "stdout",
     "output_type": "stream",
     "text": [
      "+--------------------+--------------------+\n",
      "|                text|             user_id|\n",
      "+--------------------+--------------------+\n",
      "|The pizza was oka...|msQe1u7Z_XuqjGoqh...|\n",
      "|I love this place...|msQe1u7Z_XuqjGoqh...|\n",
      "|Terrible. Dry cor...|msQe1u7Z_XuqjGoqh...|\n",
      "|Back in 2005-2007...|msQe1u7Z_XuqjGoqh...|\n",
      "|Delicious healthy...|msQe1u7Z_XuqjGoqh...|\n",
      "+--------------------+--------------------+\n",
      "only showing top 5 rows\n",
      "\n"
     ]
    }
   ],
   "source": [
    "removeColumns = ['business_id', 'cool', 'date', 'funny', 'review_id', 'stars', 'useful']\n",
    "\n",
    "yelp_df = yelp_df.select([column for column in yelp_df.columns if column not in removeColumns])\n",
    "yelp_df.show(5)"
   ]
  },
  {
   "cell_type": "markdown",
   "metadata": {},
   "source": [
    "Getting the count of users that have written more than 600 reviews on the site:"
   ]
  },
  {
   "cell_type": "code",
   "execution_count": 6,
   "metadata": {},
   "outputs": [
    {
     "name": "stdout",
     "output_type": "stream",
     "text": [
      "76\n",
      "CPU times: user 2.94 ms, sys: 7.08 ms, total: 10 ms\n",
      "Wall time: 9.1 s\n"
     ]
    }
   ],
   "source": [
    "%%time\n",
    "#users that have posted at least 600 reviews on yelp\n",
    "users_df_600 = yelp_df.groupBy(\"user_id\").count().filter(\"`count` >= 600\").orderBy(col(\"count\").desc())\n",
    "print(str(users_df_600.count()))"
   ]
  },
  {
   "cell_type": "markdown",
   "metadata": {},
   "source": [
    "There are 76 users that have posted atleast 600 reviews on yelp. Now I will select only 600 reviews from each of the users to create a balanced dataset."
   ]
  },
  {
   "cell_type": "code",
   "execution_count": 7,
   "metadata": {},
   "outputs": [],
   "source": [
    "joinedDF = yelp_df.join(users_df_600, yelp_df.user_id == users_df_600.user_id).select(yelp_df[\"*\"])"
   ]
  },
  {
   "cell_type": "code",
   "execution_count": 8,
   "metadata": {},
   "outputs": [],
   "source": [
    "window = Window.partitionBy(joinedDF['user_id']).orderBy(joinedDF['text'].desc())\n",
    "n = 600\n",
    "top_user_reviews = joinedDF.select(col('*'), row_number().over(window).alias('row_number')).where(col('row_number') <= n)\n",
    "top_user_reviews = top_user_reviews.select(col('text'), col('user_id'))"
   ]
  },
  {
   "cell_type": "markdown",
   "metadata": {},
   "source": [
    "### Pipeline with Count Features\n",
    "Generating counts of all the words for each review. Only words that occur in atleast 10 reviews will be considered and a maximum of 10000 words are considered. I have not removed the stopwords as the patterns amongst those words tend to represent the writing style of a particular user. Rare words are removed as the words have to occur in atleast 10 reviews."
   ]
  },
  {
   "cell_type": "code",
   "execution_count": 9,
   "metadata": {},
   "outputs": [],
   "source": [
    "\n",
    "# Split the words\n",
    "regexTokenizer = RegexTokenizer(inputCol=\"text\", outputCol=\"words\", pattern=\"\\\\W\")\n",
    "\n",
    "#bag of words count\n",
    "countVectors = CountVectorizer(inputCol=\"words\", outputCol=\"features\", vocabSize=10000, minDF=10)\n",
    "\n",
    "# Changing the user id into class labels from [0, n). In this case it would be [0,76)\n",
    "label_userID = StringIndexer(inputCol = \"user_id\", outputCol = \"label\")\n",
    "\n",
    "pipelineCount = Pipeline(stages=[regexTokenizer, countVectors, label_userID])\n",
    "\n",
    "# Fit the pipeline on all reviews\n",
    "pipelineCountFit = pipelineCount.fit(top_user_reviews)\n",
    "top_user_reviews_count_features = pipelineCountFit.transform(top_user_reviews)"
   ]
  },
  {
   "cell_type": "markdown",
   "metadata": {},
   "source": [
    "Splitting Data into training and testing instances:"
   ]
  },
  {
   "cell_type": "code",
   "execution_count": 15,
   "metadata": {},
   "outputs": [
    {
     "name": "stdout",
     "output_type": "stream",
     "text": [
      "Training Reviews Count: 36437\n",
      "Testing Reviews Count: 9163\n"
     ]
    }
   ],
   "source": [
    "# Seed is set to 12345 for reproducibility\n",
    "(train_Reviews, test_Reviews) = top_user_reviews_count_features.randomSplit([0.8, 0.2], seed = 12345)\n",
    "print(\"Training Reviews Count: \" + str(train_Reviews.count()))\n",
    "print(\"Testing Reviews Count: \" + str(test_Reviews.count()))"
   ]
  },
  {
   "cell_type": "markdown",
   "metadata": {},
   "source": [
    "### Classification with count features\n",
    "#### Logistic Regression"
   ]
  },
  {
   "cell_type": "code",
   "execution_count": 16,
   "metadata": {},
   "outputs": [
    {
     "name": "stdout",
     "output_type": "stream",
     "text": [
      "+--------------------+--------------------+--------------------+-----+----------+\n",
      "|                text|             user_id|         probability|label|prediction|\n",
      "+--------------------+--------------------+--------------------+-----+----------+\n",
      "|My family and I w...|UYcmGbelzRa0Q6Jqz...|[0.64675352361303...|  0.0|       0.0|\n",
      "|This is a 3 1/2 s...|UYcmGbelzRa0Q6Jqz...|[0.54168812198784...|  0.0|       0.0|\n",
      "|My fella purchase...|UYcmGbelzRa0Q6Jqz...|[0.34042386306421...|  0.0|       0.0|\n",
      "|My OG Ryan B and ...|UYcmGbelzRa0Q6Jqz...|[0.31632163704568...|  0.0|       0.0|\n",
      "|We came in during...|UYcmGbelzRa0Q6Jqz...|[0.26843193823418...|  0.0|       0.0|\n",
      "|My fella and have...|UYcmGbelzRa0Q6Jqz...|[0.25175000723116...|  0.0|       0.0|\n",
      "|This place is a g...|UYcmGbelzRa0Q6Jqz...|[0.21735182511012...|  0.0|       0.0|\n",
      "|So, I'm not a big...|UYcmGbelzRa0Q6Jqz...|[0.19822862121262...|  0.0|       0.0|\n",
      "|Ok, so I'm a litt...|UYcmGbelzRa0Q6Jqz...|[0.19467743226421...|  0.0|       0.0|\n",
      "|I've been to this...|UYcmGbelzRa0Q6Jqz...|[0.17886509930933...|  0.0|       0.0|\n",
      "+--------------------+--------------------+--------------------+-----+----------+\n",
      "only showing top 10 rows\n",
      "\n"
     ]
    }
   ],
   "source": [
    "lr = LogisticRegression(maxIter=20, regParam=0.3, elasticNetParam=0)\n",
    "\n",
    "lrModel = lr.fit(train_Reviews)\n",
    "predictions = lrModel.transform(test_Reviews)\n",
    "\n",
    "## Some Reviews of label 0 that were classified correctly\n",
    "predictions.filter(predictions['prediction'] == 0).select(\"text\",\"user_id\",\"probability\",\"label\",\"prediction\") \\\n",
    "    .orderBy(\"probability\", ascending=False) \\\n",
    "    .show(n = 10)"
   ]
  },
  {
   "cell_type": "code",
   "execution_count": 17,
   "metadata": {},
   "outputs": [
    {
     "name": "stdout",
     "output_type": "stream",
     "text": [
      "+--------------------+--------------------+--------------------+-----+----------+\n",
      "|                text|             user_id|         probability|label|prediction|\n",
      "+--------------------+--------------------+--------------------+-----+----------+\n",
      "|Popped in for a t...|hWDybu_KvYLSdEFzG...|[0.05254371652676...| 58.0|       0.0|\n",
      "|For a chain resta...|Q4Qfu-3vYtL1LRm2X...|[0.05081986917789...| 12.0|       0.0|\n",
      "|Pretty lame reall...|TbhyP24zYZqZ2VJZg...|[0.04010506544773...| 14.0|       0.0|\n",
      "|It might be older...|N3oNEwh0qgPqPP3Em...|[0.03014759022500...| 30.0|       0.0|\n",
      "|Jasons Deli has a...|qPVtjjp8sNQ32p986...|[0.02961978688386...| 74.0|       0.0|\n",
      "|Located in a stri...|fiGqQ7pIGKyZ9G0Rq...|[0.02958824895102...| 33.0|       0.0|\n",
      "|This is typically...|DK57YibC5ShBmqQl9...|[0.02932785823639...| 71.0|       0.0|\n",
      "|I like this shopp...|N3oNEwh0qgPqPP3Em...|[0.02911326086531...| 30.0|       0.0|\n",
      "|This is one of th...|DK57YibC5ShBmqQl9...|[0.02814461816914...| 71.0|       0.0|\n",
      "|With Sur La Table...|N3oNEwh0qgPqPP3Em...|[0.02747790668778...| 30.0|       0.0|\n",
      "+--------------------+--------------------+--------------------+-----+----------+\n",
      "only showing top 10 rows\n",
      "\n"
     ]
    }
   ],
   "source": [
    "## Some Reviews of label 0 that were classified incorrectly\n",
    "predictions.filter(predictions['prediction'] == 0).filter(predictions['label'] != 0).select(\"text\",\"user_id\",\"probability\",\"label\",\"prediction\") \\\n",
    "    .orderBy(\"probability\", ascending=False) \\\n",
    "    .show(n = 10)"
   ]
  },
  {
   "cell_type": "code",
   "execution_count": 18,
   "metadata": {},
   "outputs": [
    {
     "name": "stdout",
     "output_type": "stream",
     "text": [
      "Test set accuracy = 0.748101074606928\n"
     ]
    }
   ],
   "source": [
    "evaluator = MulticlassClassificationEvaluator(predictionCol=\"prediction\")\n",
    "logisticCountAccuracy = evaluator.evaluate(predictions)\n",
    "print(\"Test set accuracy = \" + str(logisticCountAccuracy))"
   ]
  },
  {
   "cell_type": "markdown",
   "metadata": {},
   "source": [
    "#### Naive Bayes using Count Feature Vector"
   ]
  },
  {
   "cell_type": "code",
   "execution_count": 19,
   "metadata": {},
   "outputs": [],
   "source": [
    "nb = NaiveBayes(smoothing=1)\n",
    "model = nb.fit(train_Reviews)\n",
    "\n",
    "predictions = model.transform(test_Reviews)"
   ]
  },
  {
   "cell_type": "code",
   "execution_count": 20,
   "metadata": {},
   "outputs": [
    {
     "name": "stdout",
     "output_type": "stream",
     "text": [
      "Test set accuracy = 0.7567572758675017\n"
     ]
    }
   ],
   "source": [
    "evaluator = MulticlassClassificationEvaluator(predictionCol=\"prediction\")\n",
    "nbCountAccuracy = evaluator.evaluate(predictions)\n",
    "print(\"Test set accuracy = \" + str(nbCountAccuracy))"
   ]
  },
  {
   "cell_type": "markdown",
   "metadata": {},
   "source": [
    "### Pipeline with TFIDF Features\n",
    "Generating a tfidf number of all the words for each review. Only words that occur in atleast 10 reviews will be considered and a maximum of 10000 words are considered. I have not removed the stopwords as the patterns amongst those words tend to represent the writing style of a particular user. Rare words are removed as the words have to occur in atleast 10 reviews."
   ]
  },
  {
   "cell_type": "code",
   "execution_count": 21,
   "metadata": {},
   "outputs": [
    {
     "name": "stdout",
     "output_type": "stream",
     "text": [
      "CPU times: user 24.8 ms, sys: 69.1 ms, total: 93.9 ms\n",
      "Wall time: 55.6 s\n"
     ]
    }
   ],
   "source": [
    "%%time\n",
    "\n",
    "reviewsTF = HashingTF(inputCol=\"words\", outputCol=\"rawFeatures\", numFeatures=10000)\n",
    "reviewsIdf = IDF(inputCol=\"rawFeatures\", outputCol=\"features\", minDocFreq=10)\n",
    "\n",
    "pipeline = Pipeline(stages=[regexTokenizer, reviewsTF , reviewsIdf, label_userID])\n",
    "\n",
    "pipelineTFIDFFit = pipeline.fit(top_user_reviews)\n",
    "top_user_reviews_TFIDF_features = pipelineTFIDFFit.transform(top_user_reviews)\n",
    "\n",
    "(train_TFIDF_Reviews, test_TFIDF_Reviews) = top_user_reviews_TFIDF_features.randomSplit([0.8, 0.2], seed = 12345)\n"
   ]
  },
  {
   "cell_type": "markdown",
   "metadata": {},
   "source": [
    "### Classification with TFIDF Features\n",
    "#### Logistic Regression"
   ]
  },
  {
   "cell_type": "code",
   "execution_count": 22,
   "metadata": {},
   "outputs": [
    {
     "name": "stdout",
     "output_type": "stream",
     "text": [
      "CPU times: user 23.2 ms, sys: 68.5 ms, total: 91.7 ms\n",
      "Wall time: 1min 17s\n"
     ]
    }
   ],
   "source": [
    "%%time\n",
    "lr = LogisticRegression(maxIter=20, regParam=0.3, elasticNetParam=0)\n",
    "\n",
    "lrModelTFIDF = lr.fit(train_TFIDF_Reviews)\n",
    "predictionsTFIDF = lrModelTFIDF.transform(test_TFIDF_Reviews)"
   ]
  },
  {
   "cell_type": "code",
   "execution_count": 23,
   "metadata": {},
   "outputs": [
    {
     "name": "stdout",
     "output_type": "stream",
     "text": [
      "Test set accuracy = 0.7103316319556514\n",
      "CPU times: user 3.45 ms, sys: 16.1 ms, total: 19.5 ms\n",
      "Wall time: 46.7 s\n"
     ]
    }
   ],
   "source": [
    "%%time\n",
    "evaluator = MulticlassClassificationEvaluator(predictionCol=\"prediction\")\n",
    "logisticTFIDFAccuracy = evaluator.evaluate(predictionsTFIDF)\n",
    "print(\"Test set accuracy = \" + str(logisticTFIDFAccuracy))"
   ]
  },
  {
   "cell_type": "markdown",
   "metadata": {},
   "source": [
    "#### Naive Bayes with TFIDF Features"
   ]
  },
  {
   "cell_type": "code",
   "execution_count": 24,
   "metadata": {},
   "outputs": [
    {
     "name": "stdout",
     "output_type": "stream",
     "text": [
      "CPU times: user 17.6 ms, sys: 17.4 ms, total: 35 ms\n",
      "Wall time: 1min 5s\n"
     ]
    }
   ],
   "source": [
    "%%time\n",
    "\n",
    "nb = NaiveBayes(smoothing=1)\n",
    "model = nb.fit(train_TFIDF_Reviews)\n",
    "\n",
    "predictionsTFIDF = model.transform(test_TFIDF_Reviews)"
   ]
  },
  {
   "cell_type": "code",
   "execution_count": 25,
   "metadata": {},
   "outputs": [
    {
     "name": "stdout",
     "output_type": "stream",
     "text": [
      "Test set accuracy = 0.6741608457475073\n",
      "CPU times: user 13.6 ms, sys: 23.5 ms, total: 37.1 ms\n",
      "Wall time: 55 s\n"
     ]
    }
   ],
   "source": [
    "%%time\n",
    "evaluator = MulticlassClassificationEvaluator(predictionCol=\"prediction\")\n",
    "nbTFIDFAccuracy = evaluator.evaluate(predictionsTFIDF)\n",
    "print(\"Test set accuracy = \" + str(nbTFIDFAccuracy))"
   ]
  },
  {
   "cell_type": "markdown",
   "metadata": {},
   "source": [
    "### TFIDF Featrues with n-gram 1 and 2\n",
    "TFIDF matrix created of 1 word and 2 word combinations that occur in atleast 10 documents, to a maximum of 10000. Models are trained on the combined features, and test instance predictions are made."
   ]
  },
  {
   "cell_type": "code",
   "execution_count": 10,
   "metadata": {},
   "outputs": [
    {
     "name": "stdout",
     "output_type": "stream",
     "text": [
      "CPU times: user 59 ms, sys: 137 ms, total: 196 ms\n",
      "Wall time: 2min 8s\n"
     ]
    }
   ],
   "source": [
    "%%time\n",
    "\n",
    "reviewsTF = HashingTF(inputCol=\"words\", outputCol=\"rawFeatures_1\", numFeatures=10000)\n",
    "reviewsIdf = IDF(inputCol=\"rawFeatures_1\", outputCol=\"features_1\", minDocFreq=10)\n",
    "\n",
    "ngram = NGram(n=2, inputCol=\"words\", outputCol=\"ngrams_2\")\n",
    "reviewsTF2 = HashingTF(inputCol=\"ngrams_2\", outputCol=\"rawFeatures_2\", numFeatures=10000)\n",
    "reviewsIdf2 = IDF(inputCol=\"rawFeatures_2\", outputCol=\"features_2\", minDocFreq=10)\n",
    "\n",
    "pipeline1 = Pipeline(stages=[reviewsTF , reviewsIdf])\n",
    "\n",
    "pipeline2 = Pipeline(stages=[ngram, reviewsTF2 , reviewsIdf2])\n",
    "\n",
    "finalPipeline = Pipeline(stages=[regexTokenizer,pipeline1, pipeline2, \n",
    "    VectorAssembler(inputCols=[\"features_1\", \"features_2\"], outputCol=\"features\"),label_userID\n",
    "])\n",
    "\n",
    "pipelineTFIDF2Fit = finalPipeline.fit(top_user_reviews)\n",
    "top_user_reviews_TFIDF2_features = pipelineTFIDF2Fit.transform(top_user_reviews)\n",
    "\n",
    "(train_TFIDF2_Reviews, test_TFIDF2_Reviews) = top_user_reviews_TFIDF2_features.randomSplit([0.8, 0.2], seed = 12345)"
   ]
  },
  {
   "cell_type": "markdown",
   "metadata": {},
   "source": [
    "#### Logistic Regression"
   ]
  },
  {
   "cell_type": "code",
   "execution_count": 11,
   "metadata": {},
   "outputs": [
    {
     "name": "stdout",
     "output_type": "stream",
     "text": [
      "CPU times: user 37.2 ms, sys: 49.5 ms, total: 86.7 ms\n",
      "Wall time: 2min 35s\n"
     ]
    }
   ],
   "source": [
    "%%time\n",
    "lr = LogisticRegression(maxIter=20, regParam=0.3, elasticNetParam=0)\n",
    "\n",
    "lrModelTFIDF2 = lr.fit(train_TFIDF2_Reviews)\n",
    "predictionsTFIDF2 = lrModelTFIDF2.transform(test_TFIDF2_Reviews)"
   ]
  },
  {
   "cell_type": "code",
   "execution_count": 12,
   "metadata": {},
   "outputs": [
    {
     "name": "stdout",
     "output_type": "stream",
     "text": [
      "Test set accuracy = 0.8021557376732369\n",
      "CPU times: user 13.4 ms, sys: 27.1 ms, total: 40.5 ms\n",
      "Wall time: 2min 1s\n"
     ]
    }
   ],
   "source": [
    "%%time\n",
    "evaluator = MulticlassClassificationEvaluator(predictionCol=\"prediction\")\n",
    "logisticTFIDF2Accuracy = evaluator.evaluate(predictionsTFIDF2)\n",
    "print(\"Test set accuracy = \" + str(logisticTFIDF2Accuracy))"
   ]
  },
  {
   "cell_type": "markdown",
   "metadata": {},
   "source": [
    "#### Naive Bayes"
   ]
  },
  {
   "cell_type": "code",
   "execution_count": 13,
   "metadata": {},
   "outputs": [
    {
     "name": "stdout",
     "output_type": "stream",
     "text": [
      "CPU times: user 12 ms, sys: 33.3 ms, total: 45.3 ms\n",
      "Wall time: 1min 25s\n"
     ]
    }
   ],
   "source": [
    "%%time\n",
    "nb = NaiveBayes(smoothing=1)\n",
    "modelTFIDF2 = nb.fit(train_TFIDF2_Reviews)\n",
    "\n",
    "predictionsTFIDF2 = modelTFIDF2.transform(test_TFIDF2_Reviews)"
   ]
  },
  {
   "cell_type": "code",
   "execution_count": 14,
   "metadata": {},
   "outputs": [
    {
     "name": "stdout",
     "output_type": "stream",
     "text": [
      "Test set accuracy = 0.7294467450183251\n",
      "CPU times: user 11.3 ms, sys: 25.8 ms, total: 37.1 ms\n",
      "Wall time: 2min 2s\n"
     ]
    }
   ],
   "source": [
    "%%time\n",
    "evaluator = MulticlassClassificationEvaluator(predictionCol=\"prediction\")\n",
    "nbTFIDF2Accuracy = evaluator.evaluate(predictionsTFIDF2)\n",
    "print(\"Test set accuracy = \" + str(nbTFIDF2Accuracy))"
   ]
  },
  {
   "cell_type": "markdown",
   "metadata": {},
   "source": [
    "### Summary\n",
    "Comparison of all accuracies given below."
   ]
  },
  {
   "cell_type": "code",
   "execution_count": 41,
   "metadata": {},
   "outputs": [
    {
     "name": "stderr",
     "output_type": "stream",
     "text": [
      "/home/centos/anaconda3/lib/python3.6/site-packages/ipykernel_launcher.py:5: FutureWarning: 'from_array' is deprecated and will be removed in a future version. Please use the pd.Series(..) constructor instead.\n",
      "  \"\"\"\n"
     ]
    },
    {
     "data": {
      "image/png": "[encoded data removed]",
      "text/plain": [
       "<Figure size 1152x576 with 1 Axes>"
      ]
     },
     "metadata": {
      "needs_background": "light"
     },
     "output_type": "display_data"
    }
   ],
   "source": [
    "import pandas as pd\n",
    "\n",
    "accuracies = [logisticCountAccuracy, nbCountAccuracy, logisticTFIDFAccuracy, nbTFIDFAccuracy, \n",
    "     logisticTFIDF2Accuracy, nbTFIDF2Accuracy]\n",
    "accu_series = pd.Series.from_array(accuracies)\n",
    "\n",
    "x_labels = [u'LogisticCount', u'nbCount', u'LogisticTFIDF', u'nbTFIDF', u'LogisticTFIDFnGram', u'nbTFIDFnGram']\n",
    "\n",
    "plt.figure(figsize=(16, 8))\n",
    "ax = accu_series.plot(kind='bar')\n",
    "ax.set_title('Comparision of Logistic and Naive Bayes with Different Features', fontsize=18)\n",
    "ax.set_xlabel('Classification', fontsize=16)\n",
    "ax.set_ylabel('Accuracy', fontsize=16)\n",
    "ax.set_xticklabels(x_labels, fontsize=14)\n",
    "\n",
    "rects = ax.patches"
   ]
  },
  {
   "cell_type": "markdown",
   "metadata": {},
   "source": [
    "#### Linear SVM MultiClass Classification"
   ]
  },
  {
   "cell_type": "code",
   "execution_count": null,
   "metadata": {},
   "outputs": [],
   "source": [
    "# from pyspark.ml.classification import LinearSVC, OneVsRest\n",
    "\n",
    "# lsvc = LinearSVC(maxIter=100, regParam=0.1)\n",
    "\n",
    "# # instantiate the One Vs Rest with a Linear SVM base classifier\n",
    "# ovr = OneVsRest(classifier=lsvc)\n",
    "\n",
    "# # train the multiclass model.\n",
    "# ovrModelTFIDF2 = ovr.fit(train_TFIDF2_Reviews)\n",
    "\n",
    "# # score the model on test data.\n",
    "# predictionsTFIDF2 = ovrModelTFIDF2.transform(test_TFIDF2_Reviews)"
   ]
  },
  {
   "cell_type": "code",
   "execution_count": null,
   "metadata": {},
   "outputs": [],
   "source": [
    "# evaluator = MulticlassClassificationEvaluator(predictionCol=\"prediction\")\n",
    "# linearSVMAccuracy = evaluator.evaluate(predictionsTFIDF2)"
   ]
  },
  {
   "cell_type": "markdown",
   "metadata": {},
   "source": [
    "### Cross-Validation\n",
    "I apply cross-validation with logistic regression to 1 and 2-gram tfidf features as it provided the best result from the above runs. It has been commented out as it was running out of disk memory in the /tmp folder"
   ]
  },
  {
   "cell_type": "code",
   "execution_count": null,
   "metadata": {},
   "outputs": [],
   "source": [
    "# %%time\n",
    "# # Create ParamGrid for Cross Validation\n",
    "# paramGrid = (ParamGridBuilder()\n",
    "#              .addGrid(lr.regParam, [0.1, 0.3, 0.5])\n",
    "#              .addGrid(lr.elasticNetParam, [0.0, 0.1, 0.2])\n",
    "# #              .addGrid(lr.maxIter, [10, 20, 50])\n",
    "#              .build())\n",
    "\n",
    "# # 5-fold CrossValidator\n",
    "# cv = CrossValidator(estimator=lr, estimatorParamMaps=paramGrid, evaluator=evaluator, numFolds=5)\n",
    "\n",
    "# cvModel = cv.fit(train_TFIDF2_Reviews)\n",
    "\n",
    "# predictionsTFIDF2 = cvModel.transform(test_TFIDF2_Reviews)"
   ]
  },
  {
   "cell_type": "code",
   "execution_count": null,
   "metadata": {},
   "outputs": [],
   "source": [
    "# # Evaluate best model\n",
    "# evaluator = MulticlassClassificationEvaluator(predictionCol=\"prediction\")\n",
    "# logisticCrossValAccuracy = evaluator.evaluate(predictionsTFIDF2)\n",
    "# print(\"Test set accuracy = \" + str(logisticCrossValAccuracy))"
   ]
  }
 ],
 "metadata": {
  "kernelspec": {
   "display_name": "Python 3",
   "language": "python",
   "name": "python3"
  },
  "language_info": {
   "codemirror_mode": {
    "name": "ipython",
    "version": 3
   },
   "file_extension": ".py",
   "mimetype": "text/x-python",
   "name": "python",
   "nbconvert_exporter": "python",
   "pygments_lexer": "ipython3",
   "version": "3.6.3"
  }
 },
 "nbformat": 4,
 "nbformat_minor": 2
}
